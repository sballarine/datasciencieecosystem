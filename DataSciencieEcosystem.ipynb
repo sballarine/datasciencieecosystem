{
 "cells": [
  {
   "cell_type": "code",
   "execution_count": null,
   "id": "3f7d834b-67b4-4e95-a5e9-4d1f4531b3c6",
   "metadata": {},
   "outputs": [],
   "source": [
    "# Title 1 \n",
    "## Title 2\n",
    "### Title 3"
   ]
  },
  {
   "cell_type": "markdown",
   "id": "abd0857f-b011-4e07-968f-6a1fedfa5d60",
   "metadata": {},
   "source": [
    "# Data Science Tools and Ecosystem"
   ]
  },
  {
   "cell_type": "markdown",
   "id": "5a3a41a2-f594-4586-a340-57f366fcdf39",
   "metadata": {},
   "source": [
    "***Bold***"
   ]
  },
  {
   "cell_type": "markdown",
   "id": "6861c5b0-f4a3-4342-9cea-d4bf07b2c7e6",
   "metadata": {},
   "source": [
    "***Objectives:***\n",
    "Jupter Notebook\n",
    "Python\n",
    "GitHub\n",
    "Pandas"
   ]
  },
  {
   "cell_type": "markdown",
   "id": "154dc9e3-8f2f-40c9-9f4d-17d79e305d15",
   "metadata": {},
   "source": [
    "In this notebook, Data Science Tools and Ecosystem are summarized."
   ]
  },
  {
   "cell_type": "markdown",
   "id": "b57c893f-cbcd-4702-a9eb-f3842420fd58",
   "metadata": {},
   "source": [
    "Some of the popular languages that Data Scientists use are:"
   ]
  },
  {
   "cell_type": "code",
   "execution_count": 5,
   "id": "9f8fd46f-c1b4-460f-b709-9ca1922fff07",
   "metadata": {},
   "outputs": [
    {
     "name": "stdout",
     "output_type": "stream",
     "text": [
      "python R SQL\n"
     ]
    }
   ],
   "source": [
    "var1 = \"python\"\n",
    "var2 = \"R\"\n",
    "var3 = \"SQL\"\n",
    "print (var1,var2,var3)"
   ]
  },
  {
   "cell_type": "markdown",
   "id": "1e794e12-f230-4dc9-92d7-0007cb85d1a2",
   "metadata": {},
   "source": [
    "Some of the commonly used libraries used by Data Scientists include:"
   ]
  },
  {
   "cell_type": "code",
   "execution_count": 6,
   "id": "c03c2ae8-5a70-476f-a24b-c444b414cf97",
   "metadata": {},
   "outputs": [
    {
     "name": "stdout",
     "output_type": "stream",
     "text": [
      "Pandas NumPy Plotly\n"
     ]
    }
   ],
   "source": [
    "var1 = \"Pandas\"\n",
    "var2 = \"NumPy\"\n",
    "var3 = \"Plotly\"\n",
    "print (var1,var2,var3)"
   ]
  },
  {
   "cell_type": "markdown",
   "id": "91a919d2-b1ec-4fbf-beb5-85768e679124",
   "metadata": {},
   "source": [
    "| Data Science Tools |  \n",
    "| ---- |\n",
    "|  GitHub |\n",
    "| Jupyter Notebook |\n",
    "| MLflow |"
   ]
  },
  {
   "cell_type": "markdown",
   "id": "9352e13f-53ca-4b23-bb76-3fcf108d2ebc",
   "metadata": {},
   "source": [
    "### Below are a few examples of evaluating arithmetic expressions in Python."
   ]
  },
  {
   "cell_type": "code",
   "execution_count": 10,
   "id": "339a8c41-2486-4ecf-852e-5b7eb1bc4ecc",
   "metadata": {},
   "outputs": [
    {
     "data": {
      "text/plain": [
       "17"
      ]
     },
     "execution_count": 10,
     "metadata": {},
     "output_type": "execute_result"
    }
   ],
   "source": [
    "# This a simple arithmetic expression to mutiply then add integers.\n",
    "(3*4)+5"
   ]
  },
  {
   "cell_type": "code",
   "execution_count": 11,
   "id": "57d2a898-1ade-41d2-abc3-d5b2aa1947f5",
   "metadata": {},
   "outputs": [
    {
     "data": {
      "text/plain": [
       "3.3333333333333335"
      ]
     },
     "execution_count": 11,
     "metadata": {},
     "output_type": "execute_result"
    }
   ],
   "source": [
    "# This will convert 200 minutes to hours by diving by 60\n",
    "200/60"
   ]
  },
  {
   "cell_type": "markdown",
   "id": "b9ced122-be81-42b0-8f2b-7a6f24b71006",
   "metadata": {},
   "source": [
    "## Autor\n",
    "Silvia Ballarín Enjuanes"
   ]
  },
  {
   "cell_type": "code",
   "execution_count": null,
   "id": "7db0c39d-5da2-4392-b095-3da647f73e61",
   "metadata": {},
   "outputs": [],
   "source": []
  }
 ],
 "metadata": {
  "kernelspec": {
   "display_name": "Python 3 (ipykernel)",
   "language": "python",
   "name": "python3"
  },
  "language_info": {
   "codemirror_mode": {
    "name": "ipython",
    "version": 3
   },
   "file_extension": ".py",
   "mimetype": "text/x-python",
   "name": "python",
   "nbconvert_exporter": "python",
   "pygments_lexer": "ipython3",
   "version": "3.11.9"
  }
 },
 "nbformat": 4,
 "nbformat_minor": 5
}
